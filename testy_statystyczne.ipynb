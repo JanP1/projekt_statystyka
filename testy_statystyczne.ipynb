{
 "cells": [
  {
   "cell_type": "markdown",
   "id": "93ea8e80",
   "metadata": {},
   "source": [
    "# **Testy statystyczne**"
   ]
  },
  {
   "cell_type": "markdown",
   "id": "a5f83bf2",
   "metadata": {},
   "source": [
    "## Zaimportowanie bibliotek potrzebnych do wykonania testów i wykresów"
   ]
  },
  {
   "cell_type": "code",
   "execution_count": null,
   "id": "21778cd5",
   "metadata": {},
   "outputs": [],
   "source": [
    "import pandas as pd\n",
    "import numpy as np\n",
    "from scipy import stats\n",
    "import matplotlib.pyplot as plt\n",
    "import seaborn as sns\n",
    "from statsmodels.stats.power import TTestPower"
   ]
  },
  {
   "cell_type": "markdown",
   "id": "dc28c521",
   "metadata": {},
   "source": [
    "## Przygotowanie danych do pracy z nimi"
   ]
  },
  {
   "cell_type": "code",
   "execution_count": 323,
   "id": "4121609b",
   "metadata": {},
   "outputs": [],
   "source": [
    "# Wczytanie danych\n",
    "df = pd.read_csv(\"symulacja_banku.csv\")\n",
    "\n",
    "# Konwersja kolumn na liczby\n",
    "df[\"Czas_przyjscia\"] = df[\"Czas_przyjscia\"].astype(int)\n",
    "df[\"Czas_rozpoczecia_obslugi\"] = df[\"Czas_rozpoczecia_obslugi\"].astype(int)\n",
    "df[\"Czas_zakonczenia_obslugi\"] = df[\"Czas_zakonczenia_obslugi\"].astype(int)\n",
    "df[\"Czas_oczekiwania\"] = df[\"Czas_oczekiwania\"].astype(int)\n",
    "df[\"Dzien\"] = df[\"Dzien\"].astype(int)\n",
    "df[\"Stanowisko\"] = df[\"Stanowisko\"].astype(int)\n",
    "\n",
    "# Dodanie kolumny: czas_obslugi\n",
    "df[\"Czas_obslugi\"] = df[\"Czas_zakonczenia_obslugi\"] - df[\"Czas_rozpoczecia_obslugi\"]"
   ]
  },
  {
   "cell_type": "markdown",
   "id": "202c93f0",
   "metadata": {},
   "source": [
    "# Test statystyczny: test t-Studenta dla jednej próby sprawdza, czy średnia z próby różni się od określonej wartości\n",
    "Hipoteza zerowa: Średni czas oczekiwania wynosi 10 minut <br>\n",
    "Hipoteza alternatywna: Średni czas oczekiwania jest różny <br>\n",
    "**t_stat** - średnia z próby znajduje się t odchylenia standardowe od wartości oczekiwanej <br>\n",
    "**p-wartość** - prawdopodobieństwo otrzymania takiego lub bardziej ekstremalnego wyniku, zakładając, że hipoteza zerowa jest prawdziwa"
   ]
  },
  {
   "cell_type": "code",
   "execution_count": 324,
   "id": "3cfde3f3",
   "metadata": {},
   "outputs": [
    {
     "name": "stdout",
     "output_type": "stream",
     "text": [
      "Średni czas oczekiwania: 14.855509355509355\n",
      "Statystyka t: 1.594, p-wartość: 0.11122\n",
      "Brak podstaw do odrzucenia hipotezy zerowej.\n"
     ]
    }
   ],
   "source": [
    "print(\"Średni czas oczekiwania:\", df[\"Czas_oczekiwania\"].mean())\n",
    "\n",
    "t_stat, p_val = stats.ttest_1samp(df[\"Czas_oczekiwania\"], popmean=14) \n",
    "\n",
    "print(f\"Statystyka t: {t_stat:.3f}, p-wartość: {p_val:.5f}\") \n",
    "if p_val < 0.05:\n",
    "    print(\"Odrzucamy hipotezę zerową.\")\n",
    "else:\n",
    "    print(\"Brak podstaw do odrzucenia hipotezy zerowej.\")\n"
   ]
  },
  {
   "cell_type": "markdown",
   "id": "4b709bb2",
   "metadata": {},
   "source": [
    "Obliczenie mocy testu"
   ]
  },
  {
   "cell_type": "code",
   "execution_count": 325,
   "id": "3f7f0f22",
   "metadata": {},
   "outputs": [
    {
     "name": "stdout",
     "output_type": "stream",
     "text": [
      "Moc testu: 0.9324\n"
     ]
    }
   ],
   "source": [
    "effect_size = (df[\"Czas_oczekiwania\"].mean() - 13) / df[\"Czas_oczekiwania\"].std()\n",
    "analysis = TTestPower()\n",
    "power = analysis.power(effect_size=effect_size, nobs=len(df[\"Czas_oczekiwania\"]), alpha=0.05)\n",
    "print(f\"Moc testu: {power:.4f}\")"
   ]
  },
  {
   "cell_type": "markdown",
   "id": "7177d148",
   "metadata": {},
   "source": [
    "# Sprawdzenie normalności rozkładu czasu przyjścia przy użyciu testu Shapiro-Wilk"
   ]
  },
  {
   "cell_type": "code",
   "execution_count": 326,
   "id": "29227702",
   "metadata": {},
   "outputs": [
    {
     "name": "stdout",
     "output_type": "stream",
     "text": [
      "Shapiro-Wilk p-wartość: 0.00014\n"
     ]
    }
   ],
   "source": [
    "shapiro_test = stats.shapiro(df[\"Czas_przyjscia\"].sample(n=200))\n",
    "print(f\"Shapiro-Wilk p-wartość: {shapiro_test.pvalue:.5f}\")\n"
   ]
  },
  {
   "cell_type": "code",
   "execution_count": 327,
   "id": "12ef3d4f",
   "metadata": {},
   "outputs": [
    {
     "data": {
      "image/png": "[encoded data removed]",
      "text/plain": [
       "<Figure size 640x480 with 1 Axes>"
      ]
     },
     "metadata": {},
     "output_type": "display_data"
    }
   ],
   "source": [
    "plt.hist(df[\"Czas_przyjscia\"], bins=30, edgecolor='black')\n",
    "plt.title(\"Rozkład czasu przyjscia\")\n",
    "plt.xlabel(\"Minuty\")\n",
    "plt.ylabel(\"Liczba klientów\")\n",
    "plt.show()"
   ]
  },
  {
   "cell_type": "markdown",
   "id": "ab2d7960",
   "metadata": {},
   "source": [
    "# Testowanie jednorodności rozkładu długości kolejek\n",
    "Hipoteza zerowa: Długości kolejek w momencie przyjścia mają rozkład jednostajny (każda wartość ma taką samą częstość) <br>\n",
    "Hipoteza alternatywna: Długości kolejek w momencie przyjścia nie mają rozkładu jednostajnego <br>\n",
    "Test chi-kwadrat"
   ]
  },
  {
   "cell_type": "code",
   "execution_count": 328,
   "id": "c10beee3",
   "metadata": {},
   "outputs": [
    {
     "name": "stdout",
     "output_type": "stream",
     "text": [
      "Test chi-kwadrat:\n",
      "χ² = 1394.6570, p-wartość = 0.00000\n",
      "Odrzucamy hipotezę zerową o jednorodności rozkładu długości kolejek.\n"
     ]
    }
   ],
   "source": [
    "from scipy.stats import chisquare\n",
    "\n",
    "# Częstość długości kolejki\n",
    "dlugosc_kolejki = df[\"Dlugosc kolejki w momencie przyjscia\"]\n",
    "obserwowane = dlugosc_kolejki.value_counts().sort_index()\n",
    "\n",
    "spodziewane = [len(dlugosc_kolejki) / len(obserwowane)] * len(obserwowane)\n",
    "\n",
    "# Test chi-kwadrat\n",
    "chi2_stat, chi2_p = chisquare(f_obs=obserwowane, f_exp=spodziewane)\n",
    "print(\"Test chi-kwadrat:\")\n",
    "print(f\"χ² = {chi2_stat:.4f}, p-wartość = {chi2_p:.5f}\")\n",
    "if chi2_p < 0.05:\n",
    "    print(\"Odrzucamy hipotezę zerową o jednorodności rozkładu długości kolejek.\")\n",
    "else:\n",
    "    print(\"Brak podstaw do odrzucenia hipotezy zerowej o jednorodności rozkładu długości kolejek.\")"
   ]
  },
  {
   "cell_type": "markdown",
   "id": "6171152d",
   "metadata": {},
   "source": [
    "Wizualizacja długości kolejek"
   ]
  },
  {
   "cell_type": "code",
   "execution_count": 329,
   "id": "87bb8a78",
   "metadata": {},
   "outputs": [
    {
     "data": {
      "image/png": "[encoded data removed]",
      "text/plain": [
       "<Figure size 800x400 with 1 Axes>"
      ]
     },
     "metadata": {},
     "output_type": "display_data"
    }
   ],
   "source": [
    "plt.figure(figsize=(8, 4))\n",
    "plt.bar(obserwowane.index, obserwowane.values, color='skyblue', edgecolor='black')\n",
    "plt.title(\"Długość kolejek w momencie przyjścia\")\n",
    "plt.xlabel(\"Długość kolejki\")\n",
    "plt.ylabel(\"Liczba klientów\")\n",
    "plt.tight_layout()\n",
    "plt.show()"
   ]
  },
  {
   "cell_type": "markdown",
   "id": "48184b41",
   "metadata": {},
   "source": [
    "## Sprawdzenie testem Shapiro-Wilk, czy czas obsługi dla stanowiska 2 ma rozkład normalny \n",
    "Hipoteza zerowa: Czas obsługi dla stanowiska 2 ma rozkład normalny <br>\n",
    "Hipoteza alternatywna: Czas obsługi dla stanowiska 2 nie ma rozkładu normalnego <br>"
   ]
  },
  {
   "cell_type": "code",
   "execution_count": 330,
   "id": "a3638ed3",
   "metadata": {},
   "outputs": [
    {
     "name": "stdout",
     "output_type": "stream",
     "text": [
      "Shapiro-Wilk test dla czasu obsługi:\n",
      "Statistic = 0.7223, p-value = 0.0000\n",
      "Odrzucamy hipotezę zerową: Czas obsługi dla stanowiska 2 nie ma rozkładu normalnego.\n"
     ]
    }
   ],
   "source": [
    "shapiro = stats.shapiro(df[df['Stanowisko'] == 2]['Czas_obslugi'])\n",
    "print(\"Shapiro-Wilk test dla czasu obsługi:\")\n",
    "print(f\"Statistic = {shapiro.statistic:.4f}, p-value = {shapiro.pvalue:.4f}\")\n",
    "if shapiro.pvalue < 0.05:\n",
    "    print(\"Odrzucamy hipotezę zerową: Czas obsługi dla stanowiska 2 nie ma rozkładu normalnego.\")\n",
    "else:\n",
    "    print(\"Brak podstaw do odrzucenia hipotezy zerowej: Czas obsługi dla stanowiska 2 ma rozkład normalny.\")\n"
   ]
  },
  {
   "cell_type": "markdown",
   "id": "8ec2e358",
   "metadata": {},
   "source": [
    "Wykres rozkładu czasu obsługi"
   ]
  },
  {
   "cell_type": "code",
   "execution_count": 331,
   "id": "59c951dc",
   "metadata": {},
   "outputs": [
    {
     "data": {
      "image/png": "[encoded data removed]",
      "text/plain": [
       "<Figure size 800x400 with 1 Axes>"
      ]
     },
     "metadata": {},
     "output_type": "display_data"
    }
   ],
   "source": [
    "\n",
    "plt.figure(figsize=(8, 4))\n",
    "sns.histplot(df[df['Stanowisko'] == 2]['Czas_obslugi'], bins=30, kde=True, color='skyblue')\n",
    "plt.title(\"Rozkład czasu obsługi dla stanowiska 2\")\n",
    "plt.xlabel(\"Czas obsługi (minuty)\")\n",
    "plt.ylabel(\"Liczba klientów\")\n",
    "plt.show()"
   ]
  },
  {
   "cell_type": "markdown",
   "id": "e8656f61",
   "metadata": {},
   "source": [
    "## Dystrybuanta empiryczna -  funkcja \"schodkowa\" o skokach w punktach odpowiadających kolejnym wartościom próby\n",
    "Wykres przedstawiający dystrybuantę empiryczną i normalną dla czasu oczekiwania"
   ]
  },
  {
   "cell_type": "code",
   "execution_count": 332,
   "id": "27a3df31",
   "metadata": {},
   "outputs": [
    {
     "data": {
      "image/png": "[encoded data removed]",
      "text/plain": [
       "<Figure size 800x400 with 1 Axes>"
      ]
     },
     "metadata": {},
     "output_type": "display_data"
    }
   ],
   "source": [
    "from statsmodels.distributions.empirical_distribution import ECDF\n",
    "data = df[\"Czas_oczekiwania\"]\n",
    "ecdf = ECDF(data)\n",
    "x = np.linspace(min(data), max(data), num=1000)\n",
    "plt.figure(figsize=(8, 4))\n",
    "plt.step(ecdf.x, ecdf.y, label='Dystrybuanta empiryczna', where='post')\n",
    "plt.plot(x, stats.norm.cdf(x, np.mean(data), np.std(data)), 'r--', label='Dystrybuanta normalna')\n",
    "plt.title(\"Dystrybuanta empiryczna vs normalna\")\n",
    "plt.xlabel(\"Wartości\")\n",
    "plt.ylabel(\"F(x)\")\n",
    "plt.legend()\n",
    "plt.grid(True)\n",
    "plt.show()"
   ]
  },
  {
   "cell_type": "markdown",
   "id": "807ffda1",
   "metadata": {},
   "source": [
    "# Test Kołmogorowa-Smirnowa dla sprawdzenia, czy dane dla czasu oczekiwania pochodzą z rozkładu normalnego"
   ]
  },
  {
   "cell_type": "code",
   "execution_count": 333,
   "id": "42e87b22",
   "metadata": {},
   "outputs": [
    {
     "name": "stdout",
     "output_type": "stream",
     "text": [
      "Test Kołmogorowa-Smirnowa: statystyka=0.1859, p-wartość=0.00000\n"
     ]
    }
   ],
   "source": [
    "ks_stat, ks_p = stats.kstest(data, 'norm', args=(np.mean(data), np.std(data)))\n",
    "print(f\"Test Kołmogorowa-Smirnowa: statystyka={ks_stat:.4f}, p-wartość={ks_p:.5f}\")\n"
   ]
  },
  {
   "cell_type": "markdown",
   "id": "8cfba3cd",
   "metadata": {},
   "source": [
    "# Test Andersona-Darlinga dla normalności rozkładu czasu obsługi w 5 dniu"
   ]
  },
  {
   "cell_type": "code",
   "execution_count": 342,
   "id": "b7582d5e",
   "metadata": {},
   "outputs": [
    {
     "name": "stdout",
     "output_type": "stream",
     "text": [
      "\n",
      "Test Andersona–Darlinga:\n",
      "Statystyka A² = 10.1158\n",
      "Na poziomie istotności 15.0%: odrzucamy hipotezę o normalności (A² = 10.1158 > 0.565)\n",
      "Na poziomie istotności 10.0%: odrzucamy hipotezę o normalności (A² = 10.1158 > 0.643)\n",
      "Na poziomie istotności 5.0%: odrzucamy hipotezę o normalności (A² = 10.1158 > 0.771)\n",
      "Na poziomie istotności 2.5%: odrzucamy hipotezę o normalności (A² = 10.1158 > 0.9)\n",
      "Na poziomie istotności 1.0%: odrzucamy hipotezę o normalności (A² = 10.1158 > 1.07)\n"
     ]
    }
   ],
   "source": [
    "czasy = df[df['Dzien'] == 5]['Czas_obslugi']\n",
    "\n",
    "result_ad = stats.anderson(czasy, dist='norm')\n",
    "print(\"\\nTest Andersona–Darlinga:\")\n",
    "print(f\"Statystyka A² = {result_ad.statistic:.4f}\")\n",
    "for cv, sig in zip(result_ad.critical_values, result_ad.significance_level):\n",
    "    if result_ad.statistic > cv:\n",
    "        print(f\"Na poziomie istotności {sig}%: odrzucamy hipotezę o normalności (A² = {result_ad.statistic:.4f} > {cv})\")\n",
    "    else:\n",
    "        print(f\"Na poziomie istotności {sig}%: brak podstaw do odrzucenia hipotezy (A² = {result_ad.statistic:.4f} < {cv})\")\n"
   ]
  },
  {
   "cell_type": "markdown",
   "id": "5edb1e5b",
   "metadata": {},
   "source": [
    "## Test dla wartości średniej - rozkład dowolny, duża próba\n",
    "Hipoteza zerowa: Średni czas oczekiwania wynosi 14 minut"
   ]
  },
  {
   "cell_type": "code",
   "execution_count": 335,
   "id": "b9c20b6b",
   "metadata": {},
   "outputs": [
    {
     "name": "stdout",
     "output_type": "stream",
     "text": [
      "Hipoteza zerowa: Średni czas oczekiwania wynosi 14 minut\n",
      "Średnia z próby: 14.86, Odchylenie standardowe z próby: 16.64\n",
      "Test średniej (duża próba, rozkład dowolny):\n",
      "Wartość statystyki testowej: 1.60\n",
      "Przyjmujemy hipotezę zerową.\n"
     ]
    }
   ],
   "source": [
    "data = df[\"Czas_oczekiwania\"].dropna()\n",
    "m_0 = 14 # czas oczekiwania z H0\n",
    "\n",
    "n = len(data)\n",
    "sample_mean = np.mean(data)\n",
    "sample_std = np.std(data)  # estymator odchylenia standardowego\n",
    "u = (sample_mean - m_0)/sample_std * np.sqrt(n)  # różnica między średnią próby a wartością oczekiwaną\n",
    "\n",
    "print(f\"Hipoteza zerowa: Średni czas oczekiwania wynosi {m_0} minut\")\n",
    "print(f\"Średnia z próby: {sample_mean:.2f}, Odchylenie standardowe z próby: {sample_std:.2f}\")\n",
    "print(f\"Test średniej (duża próba, rozkład dowolny):\")\n",
    "print(f\"Wartość statystyki testowej: {u:.2f}\")\n",
    "if sample_mean > m_0 and u < 1.96:  # dla poziomu istotności 0.05\n",
    "    print(\"Przyjmujemy hipotezę zerową.\")\n",
    "elif sample_mean < m_0 and u > -1.96:\n",
    "    print(\"Przyjmujemy hipotezę zerową.\")\n",
    "else:\n",
    "    print(\"Odrzucamy hipotezę zerową.\")"
   ]
  },
  {
   "cell_type": "markdown",
   "id": "c8c6c50b",
   "metadata": {},
   "source": [
    "# Test dla wariancji\n",
    "Hipoteza zerowa wariancja dla czasu obsługi na stanowisku 2"
   ]
  },
  {
   "cell_type": "code",
   "execution_count": 336,
   "id": "d9841c6a",
   "metadata": {},
   "outputs": [
    {
     "name": "stdout",
     "output_type": "stream",
     "text": [
      "\n",
      "Hipoteza zerowa: Wariancja wynosi 50.00\n",
      "Obliczona wariancja z próby: 48.99\n",
      "\n",
      "Test wariancji - rozkład dowolny z dużą próbą:\n",
      "Wartość statystyki testowej: -0.44\n",
      "Przyjmujemy hipotezę zerową.\n"
     ]
    }
   ],
   "source": [
    "data = df[df['Stanowisko'] == 2]['Czas_obslugi']\n",
    "wariancja = np.std(data) **2\n",
    "wariancja_0 = 50.0  # przykładowa wartość wariancji do testu\n",
    "\n",
    "u_w = (wariancja-wariancja_0)/wariancja_0 * np.sqrt(n/2)\n",
    "\n",
    "print(f\"\\nHipoteza zerowa: Wariancja wynosi {wariancja_0:.2f}\")\n",
    "print(f\"Obliczona wariancja z próby: {wariancja:.2f}\")\n",
    "print(f\"\\nTest wariancji - rozkład dowolny z dużą próbą:\")\n",
    "print(f\"Wartość statystyki testowej: {u_w:.2f}\")\n",
    "if wariancja < wariancja_0 and u_w > -2.56 :  # dla poziomu istotności 0.05\n",
    "    print(\"Przyjmujemy hipotezę zerową.\")\n",
    "elif wariancja > wariancja_0 and u_w < 2.56:\n",
    "    print(\"Przyjmujemy hipotezę zerową.\")\n",
    "else:\n",
    "    print(\"Odrzucamy hipotezę zerową.\")"
   ]
  },
  {
   "cell_type": "markdown",
   "id": "fff0cfba",
   "metadata": {},
   "source": [
    "# Test dla procentu\n",
    "Hipoteza zerowa H0 liczba klientów przychodzących do godziny 13 wynosi 50% wobec alternatywy H1 liczba klientów przychodzących do godziny 13 jest większa od 50% "
   ]
  },
  {
   "cell_type": "code",
   "execution_count": 337,
   "id": "aef1e08e",
   "metadata": {},
   "outputs": [
    {
     "name": "stdout",
     "output_type": "stream",
     "text": [
      "Liczba klientów do godziny 13: 490\n",
      "Liczba wszystkich klientów: 962\n",
      "\n",
      "Test dla procentu:\n",
      "Wartość statystyki testowej: 0.58\n",
      "Odrzucamy hipotezę zerową  na korzyść alternatywy.\n"
     ]
    }
   ],
   "source": [
    "M = (df[\"Czas_przyjscia\"] <= 240).sum()  # liczba klientów przychodzących do godziny 13\n",
    "n = len(df)  # całkowita liczba przychodzących klientów\n",
    "\n",
    "p_0 = 0.50\n",
    "\n",
    "u_p = (M - n * p_0)/ np.sqrt(n * p_0 * (1 - p_0))\n",
    "\n",
    "print(f\"Liczba klientów do godziny 13: {M}\")\n",
    "print(f\"Liczba wszystkich klientów: {n}\")\n",
    "print(f\"\\nTest dla procentu:\")\n",
    "print(f\"Wartość statystyki testowej: {u_p:.2f}\")\n",
    "if u_p > 1.28:\n",
    "    print(\"Przyjmujemy hipotezę zerową.\")\n",
    "else:\n",
    "    print(\"Odrzucamy hipotezę zerową  na korzyść alternatywy.\")"
   ]
  },
  {
   "cell_type": "markdown",
   "id": "c83ec6c2",
   "metadata": {},
   "source": [
    "# Test dla dwóch średnich czasu obsługi na stanowisku 2 i 3\n",
    "Aby wykonać ten test najpierw należy sprawdzić z jakim rodzajem danych mamy do czynienia\n",
    "Sprawdzenie normalności czasu obsługi na stanowisku 2"
   ]
  },
  {
   "cell_type": "code",
   "execution_count": 338,
   "id": "8ffcec8e",
   "metadata": {},
   "outputs": [
    {
     "name": "stdout",
     "output_type": "stream",
     "text": [
      "\n",
      "Shapiro-Wilk test dla czasu obsługi na stanowisku 2:\n",
      "Statystyka = 0.7223, p-wartość = 0.0000\n"
     ]
    }
   ],
   "source": [
    "shapiro_test_obsluga_2 = stats.shapiro(df[df['Stanowisko'] == 2]['Czas_obslugi'])\n",
    "print(f\"\\nShapiro-Wilk test dla czasu obsługi na stanowisku 2:\")\n",
    "print(f\"Statystyka = {shapiro_test_obsluga_2.statistic:.4f}, p-wartość = {shapiro_test_obsluga_2.pvalue:.4f}\")"
   ]
  },
  {
   "cell_type": "markdown",
   "id": "e122bb5a",
   "metadata": {},
   "source": [
    "Sprawdzenie normalności czasu obsługi na stanowisku 3"
   ]
  },
  {
   "cell_type": "code",
   "execution_count": 339,
   "id": "9284d778",
   "metadata": {},
   "outputs": [
    {
     "name": "stdout",
     "output_type": "stream",
     "text": [
      "\n",
      "Shapiro-Wilk test dla czasu obsługi na stanowisku 3:\n",
      "Statystyka = 0.7223, p-wartość = 0.0000\n"
     ]
    }
   ],
   "source": [
    "shapiro_test_obsluga_3 = stats.shapiro(df[df['Stanowisko'] == 3]['Czas_obslugi'])\n",
    "print(f\"\\nShapiro-Wilk test dla czasu obsługi na stanowisku 3:\")\n",
    "print(f\"Statystyka = {shapiro_test_obsluga_2.statistic:.4f}, p-wartość = {shapiro_test_obsluga_3.pvalue:.4f}\")"
   ]
  },
  {
   "cell_type": "markdown",
   "id": "7129994e",
   "metadata": {},
   "source": [
    "Z powyższych testów wynika, że dane nie mają rozkładu normalnego, więc należy wykorzystać model dla rozkładów dowolnych z dużymi próbami (dane zawierają więcej niż 100 pozycji) <br>\n",
    "Hipoteza zerowa: Średni czas obsługi na stanowisku 2 i 3 jest taki sam <br>\n",
    "Hipoteza alternatywna: Średni czas obsługi na stanowisku 2 jest krótszy niż na stanowisku 3"
   ]
  },
  {
   "cell_type": "code",
   "execution_count": 340,
   "id": "471fdb45",
   "metadata": {},
   "outputs": [
    {
     "name": "stdout",
     "output_type": "stream",
     "text": [
      "\n",
      "Test dla dwóch średnich (rozkłady dowolne, duże próby):\n",
      "Średni czas obsługi na stanowisku 2: 6.75, Średni czas obsługi na stanowisku 3: 7.82\n",
      "Wartość statystyki testowej: 1.68\n",
      "Zbiór krytyczny: (1.64, ∞)\n",
      "Odrzucamy hipotezę zerową na korzyść alternatywy, że średni czas obsługi na stanowisku 2 jest krótszy niż na stanowisku 3.\n"
     ]
    }
   ],
   "source": [
    "srednia_3 = np.mean(df[df['Stanowisko'] == 3]['Czas_obslugi'])\n",
    "srednia_2 = np.mean(df[df['Stanowisko'] == 2]['Czas_obslugi'])\n",
    "\n",
    "wariancja_3 = np.var(df[df['Stanowisko'] == 3]['Czas_obslugi'], ddof=1)\n",
    "wariancja_2 = np.var(df[df['Stanowisko'] == 2]['Czas_obslugi'], ddof=1)\n",
    "\n",
    "n_3 = len(df[df['Stanowisko'] == 3]['Czas_obslugi'])\n",
    "n_2 = len(df[df['Stanowisko'] == 2]['Czas_obslugi'])\n",
    "\n",
    "u_ws = (srednia_3 - srednia_2) / np.sqrt((wariancja_3/n_3) + (wariancja_2/n_2))\n",
    "\n",
    "print(f\"\\nTest dla dwóch średnich (rozkłady dowolne, duże próby):\")\n",
    "print(f\"Średni czas obsługi na stanowisku 2: {srednia_2:.2f}, Średni czas obsługi na stanowisku 3: {srednia_3:.2f}\")\n",
    "print(f\"Wartość statystyki testowej: {u_ws:.2f}\")\n",
    "print(\"Zbiór krytyczny: (1.64, ∞)\")\n",
    "if u_ws < 1.64:\n",
    "    print(\"Przyjmujemy hipotezę zerową.\")\n",
    "else:\n",
    "    print(\"Odrzucamy hipotezę zerową na korzyść alternatywy, że średni czas obsługi na stanowisku 2 jest krótszy niż na stanowisku 3.\")"
   ]
  },
  {
   "cell_type": "markdown",
   "id": "937d2b90",
   "metadata": {},
   "source": [
    "# Test Kruskala-Wallisa\n",
    "Służy do weryfikacji hipotezy zerowej o identyczności rozkładów pewnej cechy X typu ciągłego w k>=3 różnych populacjach (równości median tych rozkładów) <br>\n",
    "Hipoteza zerowa: średni czas obsługi na trzech stanowiskach nie zawiera istotnych różnic między stanowiskami"
   ]
  },
  {
   "cell_type": "code",
   "execution_count": 341,
   "id": "3f662eeb",
   "metadata": {},
   "outputs": [
    {
     "name": "stdout",
     "output_type": "stream",
     "text": [
      "\n",
      "Test Kruskala-Wallisa:\n",
      "Statystyka H: 2.0\n",
      "Wartość p: 0.36787944117144245\n",
      "Brak podstaw do odrzucenia H0: Brak istotnych różnic między grupami.\n"
     ]
    }
   ],
   "source": [
    "from scipy.stats import kruskal\n",
    "\n",
    "# Przykładowe dane z 3 grup\n",
    "grupa1 = np.mean(df[df['Stanowisko'] == 1]['Czas_obslugi'])\n",
    "grupa2 = np.mean(df[df['Stanowisko'] == 2]['Czas_obslugi'])\n",
    "grupa3 = np.mean(df[df['Stanowisko'] == 3]['Czas_obslugi'])\n",
    "\n",
    "statystyka, p_wartosc = kruskal(grupa1, grupa2, grupa3)\n",
    "\n",
    "print(\"\\nTest Kruskala-Wallisa:\")\n",
    "print(f\"Statystyka H: {statystyka}\")\n",
    "print(f\"Wartość p: {p_wartosc}\")\n",
    "\n",
    "# Interpretacja wyniku\n",
    "if p_wartosc < 0.05:\n",
    "    print(\"Odrzucamy H0: Istnieją istotne różnice między grupami.\")\n",
    "else:\n",
    "    print(\"Brak podstaw do odrzucenia H0: Brak istotnych różnic między grupami.\")\n"
   ]
  }
 ],
 "metadata": {
  "kernelspec": {
   "display_name": "Python 3",
   "language": "python",
   "name": "python3"
  },
  "language_info": {
   "codemirror_mode": {
    "name": "ipython",
    "version": 3
   },
   "file_extension": ".py",
   "mimetype": "text/x-python",
   "name": "python",
   "nbconvert_exporter": "python",
   "pygments_lexer": "ipython3",
   "version": "3.13.3"
  }
 },
 "nbformat": 4,
 "nbformat_minor": 5
}
